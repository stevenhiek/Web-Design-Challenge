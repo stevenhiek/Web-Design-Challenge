{
 "cells": [
  {
   "cell_type": "code",
   "execution_count": 24,
   "id": "335c4cc5",
   "metadata": {},
   "outputs": [],
   "source": [
    "import pandas as pd"
   ]
  },
  {
   "cell_type": "code",
   "execution_count": 25,
   "id": "cf4a8d6b",
   "metadata": {},
   "outputs": [],
   "source": [
    "cities = pd.read_csv(\"cities.csv\")"
   ]
  },
  {
   "cell_type": "code",
   "execution_count": 26,
   "id": "068cfdca",
   "metadata": {},
   "outputs": [],
   "source": [
    "cities.to_html('cities_table.html', index=False)"
   ]
  },
  {
   "cell_type": "code",
   "execution_count": null,
   "id": "fe62f77d",
   "metadata": {},
   "outputs": [],
   "source": []
  }
 ],
 "metadata": {
  "kernelspec": {
   "display_name": "Python 3",
   "language": "python",
   "name": "python3"
  },
  "language_info": {
   "codemirror_mode": {
    "name": "ipython",
    "version": 3
   },
   "file_extension": ".py",
   "mimetype": "text/x-python",
   "name": "python",
   "nbconvert_exporter": "python",
   "pygments_lexer": "ipython3",
   "version": "3.8.8"
  }
 },
 "nbformat": 4,
 "nbformat_minor": 5
}
